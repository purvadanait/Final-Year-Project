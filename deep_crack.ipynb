{
  "nbformat": 4,
  "nbformat_minor": 0,
  "metadata": {
    "colab": {
      "provenance": [],
      "authorship_tag": "ABX9TyN4z7jZDyJRX+5y1FNlOKjq",
      "include_colab_link": true
    },
    "kernelspec": {
      "name": "python3",
      "display_name": "Python 3"
    },
    "language_info": {
      "name": "python"
    }
  },
  "cells": [
    {
      "cell_type": "markdown",
      "metadata": {
        "id": "view-in-github",
        "colab_type": "text"
      },
      "source": [
        "<a href=\"https://colab.research.google.com/github/purvadanait/Final-Year-Project/blob/main/deep_crack.ipynb\" target=\"_parent\"><img src=\"https://colab.research.google.com/assets/colab-badge.svg\" alt=\"Open In Colab\"/></a>"
      ]
    },
    {
      "cell_type": "code",
      "execution_count": 1,
      "metadata": {
        "id": "rv4ZIaoL52Dc"
      },
      "outputs": [],
      "source": [
        "from torch import nn\n",
        "import torch\n",
        "import torch.nn.functional as F"
      ]
    },
    {
      "cell_type": "code",
      "source": [
        "def Conv3X3(in_, out):\n",
        "    return torch.nn.Conv2d(in_, out, 3, padding=1)\n",
        "\n",
        "\n",
        "class ConvRelu(nn.Module):\n",
        "    def __init__(self, in_, out):\n",
        "        super().__init__()\n",
        "        self.conv = Conv3X3(in_, out)\n",
        "        self.activation = torch.nn.ReLU(inplace=True)\n",
        "\n",
        "    def forward(self, x):\n",
        "        x = self.conv(x)\n",
        "        x = self.activation(x)\n",
        "        return x"
      ],
      "metadata": {
        "id": "ELGa6ak76OsK"
      },
      "execution_count": 2,
      "outputs": []
    },
    {
      "cell_type": "code",
      "source": [
        "class Down(nn.Module):\n",
        "\n",
        "    def __init__(self, nn):\n",
        "        super(Down,self).__init__()\n",
        "        self.nn = nn\n",
        "        self.maxpool_with_argmax = torch.nn.MaxPool2d(kernel_size=2, stride=2, return_indices=True)\n",
        "\n",
        "    def forward(self,inputs):\n",
        "        down = self.nn(inputs)\n",
        "        unpooled_shape = down.size()\n",
        "        outputs, indices = self.maxpool_with_argmax(down)\n",
        "        return outputs, down, indices, unpooled_shape"
      ],
      "metadata": {
        "id": "CrsfK1uJ7Wi4"
      },
      "execution_count": 3,
      "outputs": []
    },
    {
      "cell_type": "code",
      "source": [
        "class Up(nn.Module):\n",
        "\n",
        "    def __init__(self, nn):\n",
        "        super().__init__()\n",
        "        self.nn = nn\n",
        "        self.unpool=torch.nn.MaxUnpool2d(2,2)\n",
        "\n",
        "    def forward(self,inputs,indices,output_shape):\n",
        "        outputs = self.unpool(inputs, indices=indices, output_size=output_shape)\n",
        "        outputs = self.nn(outputs)\n",
        "        return outputs"
      ],
      "metadata": {
        "id": "aJznnk3t7cDA"
      },
      "execution_count": 4,
      "outputs": []
    },
    {
      "cell_type": "code",
      "source": [
        "class Fuse(nn.Module):\n",
        "\n",
        "    def __init__(self, nn, scale):\n",
        "        super().__init__()\n",
        "        self.nn = nn\n",
        "        self.scale = scale\n",
        "        self.conv = Conv3X3(64,1)\n",
        "\n",
        "    def forward(self,down_inp,up_inp):\n",
        "        outputs = torch.cat([down_inp, up_inp], 1)\n",
        "        outputs = F.interpolate(outputs, scale_factor=self.scale, mode='bilinear')\n",
        "        outputs = self.nn(outputs)\n",
        "\n",
        "        return self.conv(outputs)"
      ],
      "metadata": {
        "id": "KcnkptQQ7iDa"
      },
      "execution_count": 5,
      "outputs": []
    },
    {
      "cell_type": "code",
      "source": [
        "class DeepCrack(nn.Module):\n",
        "\n",
        "    def __init__(self, num_classes=1000):\n",
        "        super(DeepCrack, self).__init__()\n",
        "\n",
        "        self.down1 = Down(torch.nn.Sequential(\n",
        "            ConvRelu(3,64),\n",
        "            ConvRelu(64,64),\n",
        "        ))\n",
        "\n",
        "        self.down2 = Down(torch.nn.Sequential(\n",
        "            ConvRelu(64,128),\n",
        "            ConvRelu(128,128),\n",
        "        ))\n",
        "\n",
        "        self.down3 = Down(torch.nn.Sequential(\n",
        "            ConvRelu(128,256),\n",
        "            ConvRelu(256,256),\n",
        "            ConvRelu(256,256),\n",
        "        ))\n",
        "\n",
        "        self.down4 = Down(torch.nn.Sequential(\n",
        "            ConvRelu(256, 512),\n",
        "            ConvRelu(512, 512),\n",
        "            ConvRelu(512, 512),\n",
        "        ))\n",
        "\n",
        "        self.down5 = Down(torch.nn.Sequential(\n",
        "            ConvRelu(512, 512),\n",
        "            ConvRelu(512, 512),\n",
        "            ConvRelu(512, 512),\n",
        "        ))\n",
        "\n",
        "        self.up1 = Up(torch.nn.Sequential(\n",
        "            ConvRelu(64, 64),\n",
        "            ConvRelu(64, 64),\n",
        "        ))\n",
        "\n",
        "        self.up2 = Up(torch.nn.Sequential(\n",
        "            ConvRelu(128, 128),\n",
        "            ConvRelu(128, 64),\n",
        "        ))\n",
        "\n",
        "        self.up3 = Up(torch.nn.Sequential(\n",
        "            ConvRelu(256, 256),\n",
        "            ConvRelu(256, 256),\n",
        "            ConvRelu(256, 128),\n",
        "        ))\n",
        "\n",
        "        self.up4 = Up(torch.nn.Sequential(\n",
        "            ConvRelu(512, 512),\n",
        "            ConvRelu(512, 512),\n",
        "            ConvRelu(512, 256),\n",
        "        ))\n",
        "\n",
        "        self.up5 = Up(torch.nn.Sequential(\n",
        "            ConvRelu(512, 512),\n",
        "            ConvRelu(512, 512),\n",
        "            ConvRelu(512, 512),\n",
        "        ))\n",
        "\n",
        "        self.fuse5 = Fuse(ConvRelu(512 + 512, 64), scale=16)\n",
        "        self.fuse4 = Fuse(ConvRelu(512 + 256, 64), scale=8)\n",
        "        self.fuse3 = Fuse(ConvRelu(256 + 128, 64), scale=4)\n",
        "        self.fuse2 = Fuse(ConvRelu(128 + 64, 64), scale=2)\n",
        "        self.fuse1 = Fuse(ConvRelu(64 + 64, 64), scale=1)\n",
        "\n",
        "        self.final = Conv3X3(5,1)\n",
        "\n",
        "    def forward(self,inputs):\n",
        "\n",
        "        # encoder part\n",
        "        out, down1, indices_1, unpool_shape1 = self.down1(inputs)\n",
        "        out, down2, indices_2, unpool_shape2 = self.down2(out)\n",
        "        out, down3, indices_3, unpool_shape3 = self.down3(out)\n",
        "        out, down4, indices_4, unpool_shape4 = self.down4(out)\n",
        "        out, down5, indices_5, unpool_shape5 = self.down5(out)\n",
        "\n",
        "        # decoder part\n",
        "        up5 = self.up5(out, indices=indices_5, output_shape=unpool_shape5)\n",
        "        up4 = self.up4(up5, indices=indices_4, output_shape=unpool_shape4)\n",
        "        up3 = self.up3(up4, indices=indices_3, output_shape=unpool_shape3)\n",
        "        up2 = self.up2(up3, indices=indices_2, output_shape=unpool_shape2)\n",
        "        up1 = self.up1(up2, indices=indices_1, output_shape=unpool_shape1)\n",
        "\n",
        "        fuse5 = self.fuse5(down_inp=down5,up_inp=up5)\n",
        "        fuse4 = self.fuse4(down_inp=down4, up_inp=up4)\n",
        "        fuse3 = self.fuse3(down_inp=down3, up_inp=up3)\n",
        "        fuse2 = self.fuse2(down_inp=down2, up_inp=up2)\n",
        "        fuse1 = self.fuse1(down_inp=down1, up_inp=up1)\n",
        "\n",
        "        output = self.final(torch.cat([fuse5,fuse4,fuse3,fuse2,fuse1],1))\n",
        "\n",
        "        return output, fuse5, fuse4, fuse3, fuse2, fuse1\n",
        "\n",
        "if __name__ == '__main__':\n",
        "    inp = torch.randn((1,3,512,512))\n",
        "\n",
        "    model = DeepCrack()\n",
        "\n",
        "    out = model(inp)"
      ],
      "metadata": {
        "id": "uhxusbhS7nNq"
      },
      "execution_count": 6,
      "outputs": []
    },
    {
      "cell_type": "code",
      "source": [],
      "metadata": {
        "id": "sWcFKCyH7oVk"
      },
      "execution_count": null,
      "outputs": []
    }
  ]
}